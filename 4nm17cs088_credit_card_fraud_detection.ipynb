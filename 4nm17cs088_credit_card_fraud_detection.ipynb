{
  "nbformat": 4,
  "nbformat_minor": 0,
  "metadata": {
    "kernelspec": {
      "display_name": "Python 3",
      "language": "python",
      "name": "python3"
    },
    "language_info": {
      "codemirror_mode": {
        "name": "ipython",
        "version": 3
      },
      "file_extension": ".py",
      "mimetype": "text/x-python",
      "name": "python",
      "nbconvert_exporter": "python",
      "pygments_lexer": "ipython3",
      "version": "3.5.2"
    },
    "colab": {
      "name": "Credit Card Fraud Detection.ipynb",
      "provenance": []
    }
  },
  "cells": [
    {
      "cell_type": "markdown",
      "metadata": {
        "id": "XJUpkA2k3WCP",
        "colab_type": "text"
      },
      "source": [
        "# Overview"
      ]
    },
    {
      "cell_type": "markdown",
      "metadata": {
        "id": "OypJfjv13WCS",
        "colab_type": "text"
      },
      "source": [
        "The datasets contains transactions made by credit cards in September 2013 by european cardholders. This dataset presents transactions that occurred in two days, where we have 492 frauds out of 284,807 transactions. The dataset is highly unbalanced, the positive class (frauds) account for 0.172% of all transactions."
      ]
    },
    {
      "cell_type": "code",
      "metadata": {
        "id": "U03GJ9ea3WCT",
        "colab_type": "code",
        "colab": {}
      },
      "source": [
        "# importing libraries\n",
        "import numpy as np\n",
        "import pandas as pd\n",
        "import matplotlib.pyplot as plt\n",
        "import csv\n",
        "from sklearn.cross_validation import train_test_split\n",
        "from sklearn.preprocessing import StandardScaler\n",
        "from sklearn.decomposition import PCA\n",
        "from sklearn.preprocessing import Imputer\n",
        "import seaborn as sns\n",
        "import matplotlib.pyplot as plt\n",
        "%matplotlib inline\n",
        "from sklearn.ensemble import RandomForestClassifier\n",
        "from sklearn.metrics import confusion_matrix\n",
        "from sklearn.metrics import accuracy_score\n",
        "from sklearn.svm import SVC\n",
        "from sklearn.svm import SVR\n",
        "from sklearn.naive_bayes import GaussianNB\n",
        "from sklearn.tree import DecisionTreeClassifier\n",
        "import math"
      ],
      "execution_count": null,
      "outputs": []
    },
    {
      "cell_type": "code",
      "metadata": {
        "id": "xKvRpd9m3WCW",
        "colab_type": "code",
        "colab": {}
      },
      "source": [
        "# Loading data\n",
        "dataset = pd.read_csv('C:\\\\Users\\\\Kiran Giraddi\\\\Downloads\\\\creditcard.csv')"
      ],
      "execution_count": null,
      "outputs": []
    },
    {
      "cell_type": "code",
      "metadata": {
        "id": "4CFQrnVy3WCY",
        "colab_type": "code",
        "colab": {},
        "outputId": "064be19b-8211-435c-8fad-31e24fdadb1d"
      },
      "source": [
        "dataset.head()"
      ],
      "execution_count": null,
      "outputs": [
        {
          "output_type": "execute_result",
          "data": {
            "text/html": [
              "<div>\n",
              "<style scoped>\n",
              "    .dataframe tbody tr th:only-of-type {\n",
              "        vertical-align: middle;\n",
              "    }\n",
              "\n",
              "    .dataframe tbody tr th {\n",
              "        vertical-align: top;\n",
              "    }\n",
              "\n",
              "    .dataframe thead th {\n",
              "        text-align: right;\n",
              "    }\n",
              "</style>\n",
              "<table border=\"1\" class=\"dataframe\">\n",
              "  <thead>\n",
              "    <tr style=\"text-align: right;\">\n",
              "      <th></th>\n",
              "      <th>Time</th>\n",
              "      <th>V1</th>\n",
              "      <th>V2</th>\n",
              "      <th>V3</th>\n",
              "      <th>V4</th>\n",
              "      <th>V5</th>\n",
              "      <th>V6</th>\n",
              "      <th>V7</th>\n",
              "      <th>V8</th>\n",
              "      <th>V9</th>\n",
              "      <th>...</th>\n",
              "      <th>V21</th>\n",
              "      <th>V22</th>\n",
              "      <th>V23</th>\n",
              "      <th>V24</th>\n",
              "      <th>V25</th>\n",
              "      <th>V26</th>\n",
              "      <th>V27</th>\n",
              "      <th>V28</th>\n",
              "      <th>Amount</th>\n",
              "      <th>Class</th>\n",
              "    </tr>\n",
              "  </thead>\n",
              "  <tbody>\n",
              "    <tr>\n",
              "      <th>0</th>\n",
              "      <td>0.0</td>\n",
              "      <td>-1.359807</td>\n",
              "      <td>-0.072781</td>\n",
              "      <td>2.536347</td>\n",
              "      <td>1.378155</td>\n",
              "      <td>-0.338321</td>\n",
              "      <td>0.462388</td>\n",
              "      <td>0.239599</td>\n",
              "      <td>0.098698</td>\n",
              "      <td>0.363787</td>\n",
              "      <td>...</td>\n",
              "      <td>-0.018307</td>\n",
              "      <td>0.277838</td>\n",
              "      <td>-0.110474</td>\n",
              "      <td>0.066928</td>\n",
              "      <td>0.128539</td>\n",
              "      <td>-0.189115</td>\n",
              "      <td>0.133558</td>\n",
              "      <td>-0.021053</td>\n",
              "      <td>149.62</td>\n",
              "      <td>0</td>\n",
              "    </tr>\n",
              "    <tr>\n",
              "      <th>1</th>\n",
              "      <td>0.0</td>\n",
              "      <td>1.191857</td>\n",
              "      <td>0.266151</td>\n",
              "      <td>0.166480</td>\n",
              "      <td>0.448154</td>\n",
              "      <td>0.060018</td>\n",
              "      <td>-0.082361</td>\n",
              "      <td>-0.078803</td>\n",
              "      <td>0.085102</td>\n",
              "      <td>-0.255425</td>\n",
              "      <td>...</td>\n",
              "      <td>-0.225775</td>\n",
              "      <td>-0.638672</td>\n",
              "      <td>0.101288</td>\n",
              "      <td>-0.339846</td>\n",
              "      <td>0.167170</td>\n",
              "      <td>0.125895</td>\n",
              "      <td>-0.008983</td>\n",
              "      <td>0.014724</td>\n",
              "      <td>2.69</td>\n",
              "      <td>0</td>\n",
              "    </tr>\n",
              "    <tr>\n",
              "      <th>2</th>\n",
              "      <td>1.0</td>\n",
              "      <td>-1.358354</td>\n",
              "      <td>-1.340163</td>\n",
              "      <td>1.773209</td>\n",
              "      <td>0.379780</td>\n",
              "      <td>-0.503198</td>\n",
              "      <td>1.800499</td>\n",
              "      <td>0.791461</td>\n",
              "      <td>0.247676</td>\n",
              "      <td>-1.514654</td>\n",
              "      <td>...</td>\n",
              "      <td>0.247998</td>\n",
              "      <td>0.771679</td>\n",
              "      <td>0.909412</td>\n",
              "      <td>-0.689281</td>\n",
              "      <td>-0.327642</td>\n",
              "      <td>-0.139097</td>\n",
              "      <td>-0.055353</td>\n",
              "      <td>-0.059752</td>\n",
              "      <td>378.66</td>\n",
              "      <td>0</td>\n",
              "    </tr>\n",
              "    <tr>\n",
              "      <th>3</th>\n",
              "      <td>1.0</td>\n",
              "      <td>-0.966272</td>\n",
              "      <td>-0.185226</td>\n",
              "      <td>1.792993</td>\n",
              "      <td>-0.863291</td>\n",
              "      <td>-0.010309</td>\n",
              "      <td>1.247203</td>\n",
              "      <td>0.237609</td>\n",
              "      <td>0.377436</td>\n",
              "      <td>-1.387024</td>\n",
              "      <td>...</td>\n",
              "      <td>-0.108300</td>\n",
              "      <td>0.005274</td>\n",
              "      <td>-0.190321</td>\n",
              "      <td>-1.175575</td>\n",
              "      <td>0.647376</td>\n",
              "      <td>-0.221929</td>\n",
              "      <td>0.062723</td>\n",
              "      <td>0.061458</td>\n",
              "      <td>123.50</td>\n",
              "      <td>0</td>\n",
              "    </tr>\n",
              "    <tr>\n",
              "      <th>4</th>\n",
              "      <td>2.0</td>\n",
              "      <td>-1.158233</td>\n",
              "      <td>0.877737</td>\n",
              "      <td>1.548718</td>\n",
              "      <td>0.403034</td>\n",
              "      <td>-0.407193</td>\n",
              "      <td>0.095921</td>\n",
              "      <td>0.592941</td>\n",
              "      <td>-0.270533</td>\n",
              "      <td>0.817739</td>\n",
              "      <td>...</td>\n",
              "      <td>-0.009431</td>\n",
              "      <td>0.798278</td>\n",
              "      <td>-0.137458</td>\n",
              "      <td>0.141267</td>\n",
              "      <td>-0.206010</td>\n",
              "      <td>0.502292</td>\n",
              "      <td>0.219422</td>\n",
              "      <td>0.215153</td>\n",
              "      <td>69.99</td>\n",
              "      <td>0</td>\n",
              "    </tr>\n",
              "  </tbody>\n",
              "</table>\n",
              "<p>5 rows × 31 columns</p>\n",
              "</div>"
            ],
            "text/plain": [
              "   Time        V1        V2        V3        V4        V5        V6        V7  \\\n",
              "0   0.0 -1.359807 -0.072781  2.536347  1.378155 -0.338321  0.462388  0.239599   \n",
              "1   0.0  1.191857  0.266151  0.166480  0.448154  0.060018 -0.082361 -0.078803   \n",
              "2   1.0 -1.358354 -1.340163  1.773209  0.379780 -0.503198  1.800499  0.791461   \n",
              "3   1.0 -0.966272 -0.185226  1.792993 -0.863291 -0.010309  1.247203  0.237609   \n",
              "4   2.0 -1.158233  0.877737  1.548718  0.403034 -0.407193  0.095921  0.592941   \n",
              "\n",
              "         V8        V9  ...         V21       V22       V23       V24  \\\n",
              "0  0.098698  0.363787  ...   -0.018307  0.277838 -0.110474  0.066928   \n",
              "1  0.085102 -0.255425  ...   -0.225775 -0.638672  0.101288 -0.339846   \n",
              "2  0.247676 -1.514654  ...    0.247998  0.771679  0.909412 -0.689281   \n",
              "3  0.377436 -1.387024  ...   -0.108300  0.005274 -0.190321 -1.175575   \n",
              "4 -0.270533  0.817739  ...   -0.009431  0.798278 -0.137458  0.141267   \n",
              "\n",
              "        V25       V26       V27       V28  Amount  Class  \n",
              "0  0.128539 -0.189115  0.133558 -0.021053  149.62      0  \n",
              "1  0.167170  0.125895 -0.008983  0.014724    2.69      0  \n",
              "2 -0.327642 -0.139097 -0.055353 -0.059752  378.66      0  \n",
              "3  0.647376 -0.221929  0.062723  0.061458  123.50      0  \n",
              "4 -0.206010  0.502292  0.219422  0.215153   69.99      0  \n",
              "\n",
              "[5 rows x 31 columns]"
            ]
          },
          "metadata": {
            "tags": []
          },
          "execution_count": 3
        }
      ]
    },
    {
      "cell_type": "markdown",
      "metadata": {
        "id": "PmA44HqH3WCb",
        "colab_type": "text"
      },
      "source": [
        "## Input and Ouput data"
      ]
    },
    {
      "cell_type": "code",
      "metadata": {
        "id": "pcmz3fsk3WCb",
        "colab_type": "code",
        "colab": {}
      },
      "source": [
        "x = dataset.iloc[: , 1:30].values\n",
        "y = dataset.iloc[:, 30].values"
      ],
      "execution_count": null,
      "outputs": []
    },
    {
      "cell_type": "code",
      "metadata": {
        "id": "XdN5zWZe3WCe",
        "colab_type": "code",
        "colab": {},
        "outputId": "4b2551cc-7e6b-4b27-e9cb-66541fe60a5b"
      },
      "source": [
        "print(\"Input Shape : \", x.shape)\n",
        "print(\"Output Shape : \", y.shape)"
      ],
      "execution_count": null,
      "outputs": [
        {
          "output_type": "stream",
          "text": [
            "Input Shape :  (284807, 29)\n",
            "Output Shape :  (284807,)\n"
          ],
          "name": "stdout"
        }
      ]
    },
    {
      "cell_type": "code",
      "metadata": {
        "id": "LZqmQ5Tr3WCg",
        "colab_type": "code",
        "colab": {},
        "outputId": "9bc42bea-34d2-447d-9a19-6d2f94f3ac67"
      },
      "source": [
        "print (\"Labels : \\n\", y)"
      ],
      "execution_count": null,
      "outputs": [
        {
          "output_type": "stream",
          "text": [
            "Labels : \n",
            " [0 0 0 ..., 0 0 0]\n"
          ],
          "name": "stdout"
        }
      ]
    },
    {
      "cell_type": "markdown",
      "metadata": {
        "id": "fpThjpgj3WCj",
        "colab_type": "text"
      },
      "source": [
        "## Handling Missing Values"
      ]
    },
    {
      "cell_type": "code",
      "metadata": {
        "id": "XO1ITxIJ3WCl",
        "colab_type": "code",
        "colab": {}
      },
      "source": [
        "imputer = Imputer(missing_values=\"NaN\", strategy=\"mean\", axis=0)\n",
        "imputer = imputer.fit(x[:, 1:30])\n",
        "x[:, 1:30] = imputer.fit_transform(x[:, 1:30])"
      ],
      "execution_count": null,
      "outputs": []
    },
    {
      "cell_type": "markdown",
      "metadata": {
        "id": "kS1R9Xaj3WCo",
        "colab_type": "text"
      },
      "source": [
        "## Splitting testing and training data"
      ]
    },
    {
      "cell_type": "code",
      "metadata": {
        "id": "BsWMrxgk3WCo",
        "colab_type": "code",
        "colab": {}
      },
      "source": [
        "xtrain, xtest, ytrain, ytest = train_test_split(x, y, test_size=0.25, random_state = 0)"
      ],
      "execution_count": null,
      "outputs": []
    },
    {
      "cell_type": "code",
      "metadata": {
        "id": "XvsDZ2yZ3WCq",
        "colab_type": "code",
        "colab": {},
        "outputId": "5394f8cd-56cd-4089-968f-e5a32353a9ad"
      },
      "source": [
        "print(\"xtrain.shape : \", xtrain.shape)\n",
        "print(\"xtest.shape  : \", xtest.shape)\n",
        "print(\"ytrain.shape : \", ytrain.shape)\n",
        "print(\"xtest.shape  : \", xtest.shape)"
      ],
      "execution_count": null,
      "outputs": [
        {
          "output_type": "stream",
          "text": [
            "xtrain.shape :  (213605, 29)\n",
            "xtest.shape  :  (71202, 29)\n",
            "ytrain.shape :  (213605,)\n",
            "xtest.shape  :  (71202, 29)\n"
          ],
          "name": "stdout"
        }
      ]
    },
    {
      "cell_type": "markdown",
      "metadata": {
        "id": "2R355PTb3WCt",
        "colab_type": "text"
      },
      "source": [
        "## Feature Scaling"
      ]
    },
    {
      "cell_type": "code",
      "metadata": {
        "id": "fOMSpHUm3WCt",
        "colab_type": "code",
        "colab": {}
      },
      "source": [
        "sc_x = StandardScaler()\n",
        "xtrain = sc_x.fit_transform(xtrain)\n",
        "xtest = sc_x.transform(xtest)"
      ],
      "execution_count": null,
      "outputs": []
    },
    {
      "cell_type": "code",
      "metadata": {
        "id": "pYWkEsNB3WCv",
        "colab_type": "code",
        "colab": {},
        "outputId": "0c4966c6-a97a-41b7-9c15-9d0ec47a1611"
      },
      "source": [
        "print(\"Standardised Training Set : \\n\", xtrain[0])"
      ],
      "execution_count": null,
      "outputs": [
        {
          "output_type": "stream",
          "text": [
            "Standardised Training Set : \n",
            " [ 1.04272047  0.06657394 -1.19051456  0.05060912  0.18235446 -1.31399333\n",
            "  0.58133086 -0.40257892 -0.09319222  0.16481198  1.60036637  1.18028602\n",
            " -0.24273404  1.08764203 -0.35935009 -0.76863613 -0.28881862 -0.39536117\n",
            "  0.13774039 -0.34055771  0.32484688  1.13026957  0.03716189  0.90724443\n",
            "  0.61754959  0.39904973 -0.21031503 -0.2607924  -0.35356699]\n"
          ],
          "name": "stdout"
        }
      ]
    },
    {
      "cell_type": "markdown",
      "metadata": {
        "id": "5k1I--N13WCy",
        "colab_type": "text"
      },
      "source": [
        "# Decision Tree Classification"
      ]
    },
    {
      "cell_type": "code",
      "metadata": {
        "id": "lqrxvZ-X3WCy",
        "colab_type": "code",
        "colab": {},
        "outputId": "143015c5-17c0-4c89-8236-ccd830251f6c"
      },
      "source": [
        "dt_classifier = DecisionTreeClassifier(criterion = 'entropy', random_state = 0)\n",
        "dt_classifier.fit(xtrain, ytrain)"
      ],
      "execution_count": null,
      "outputs": [
        {
          "output_type": "execute_result",
          "data": {
            "text/plain": [
              "DecisionTreeClassifier(class_weight=None, criterion='entropy', max_depth=None,\n",
              "            max_features=None, max_leaf_nodes=None,\n",
              "            min_impurity_decrease=0.0, min_impurity_split=None,\n",
              "            min_samples_leaf=1, min_samples_split=2,\n",
              "            min_weight_fraction_leaf=0.0, presort=False, random_state=0,\n",
              "            splitter='best')"
            ]
          },
          "metadata": {
            "tags": []
          },
          "execution_count": 17
        }
      ]
    },
    {
      "cell_type": "code",
      "metadata": {
        "id": "p0OF2ELS3WC2",
        "colab_type": "code",
        "colab": {}
      },
      "source": [
        "# Predicting \n",
        "y_pred_decision_tree = dt_classifier.predict(xtest)"
      ],
      "execution_count": null,
      "outputs": []
    },
    {
      "cell_type": "code",
      "metadata": {
        "id": "pfofYFPw3WC4",
        "colab_type": "code",
        "colab": {},
        "outputId": "c48edd08-f277-49f2-8bc1-4bd443eb0610"
      },
      "source": [
        "print(\"y_pred_decision_tree : \\n\", y_pred_decision_tree)"
      ],
      "execution_count": null,
      "outputs": [
        {
          "output_type": "stream",
          "text": [
            "y_pred_decision_tree : \n",
            " [0 0 0 ..., 0 0 0]\n"
          ],
          "name": "stdout"
        }
      ]
    },
    {
      "cell_type": "code",
      "metadata": {
        "id": "IudecZe13WC7",
        "colab_type": "code",
        "colab": {},
        "outputId": "312762de-f2eb-4e7b-a3d2-9a7c5676ec67"
      },
      "source": [
        "cm_decision = confusion_matrix(ytest, y_pred_decision_tree)\n",
        "print(\"confusion Marix : \\n\", cm_decision)"
      ],
      "execution_count": null,
      "outputs": [
        {
          "output_type": "stream",
          "text": [
            "confusion Marix : \n",
            " [[71052    30]\n",
            " [   25    95]]\n"
          ],
          "name": "stdout"
        }
      ]
    },
    {
      "cell_type": "markdown",
      "metadata": {
        "id": "W2VNKoFb3WC9",
        "colab_type": "text"
      },
      "source": [
        "## Results of Decision Tree Classification"
      ]
    },
    {
      "cell_type": "code",
      "metadata": {
        "id": "AqB3eNEx3WC9",
        "colab_type": "code",
        "colab": {},
        "outputId": "a22c6a83-f93d-4dfa-ea1b-a13db7aaa782"
      },
      "source": [
        "\n",
        "Accuracy_Decison = ((cm_decision[0][0] + cm_decision[1][1]) / cm_decision.sum()) *100\n",
        "print(\"Accuracy_Decison    : \", Accuracy_Decison)\n",
        "\n",
        "Error_rate_Decison = ((cm_decision[0][1] + cm_decision[1][0]) / cm_decision.sum()) *100\n",
        "print(\"Error_rate_Decison  : \", Error_rate_Decison)\n",
        "\n",
        "# True Fake Recognition Rate\n",
        "Specificity_Decison = (cm_decision[1][1] / (cm_decision[1][1] + cm_decision[0][1])) *100\n",
        "print(\"Specificity_Decison : \", Specificity_Decison)\n",
        "\n",
        "# True Genuine Recognition Rate\n",
        "Sensitivity_Decison = (cm_decision[0][0] / (cm_decision[0][0] + cm_decision[1][0])) *100\n",
        "print(\"Sensitivity_Decison : \", Sensitivity_Decison)"
      ],
      "execution_count": null,
      "outputs": [
        {
          "output_type": "stream",
          "text": [
            "Accuracy_Decison    :  99.9227549788\n",
            "Error_rate_Decison  :  0.0772450212073\n",
            "Specificity_Decison :  76.0\n",
            "Sensitivity_Decison :  99.9648268779\n"
          ],
          "name": "stdout"
        }
      ]
    },
    {
      "cell_type": "markdown",
      "metadata": {
        "id": "WCGoufGK3WDB",
        "colab_type": "text"
      },
      "source": [
        "# Random Forest Classification"
      ]
    },
    {
      "cell_type": "code",
      "metadata": {
        "id": "2sFawMTu3WDC",
        "colab_type": "code",
        "colab": {},
        "outputId": "49fd6f41-e23c-4f83-b7e4-b334b7879be5"
      },
      "source": [
        "svc_classifier = SVC(kernel = 'rbf', random_state =0)\n",
        "svc_classifier.fit(xtrain, ytrain)"
      ],
      "execution_count": null,
      "outputs": [
        {
          "output_type": "execute_result",
          "data": {
            "text/plain": [
              "SVC(C=1.0, cache_size=200, class_weight=None, coef0=0.0,\n",
              "  decision_function_shape='ovr', degree=3, gamma='auto', kernel='rbf',\n",
              "  max_iter=-1, probability=False, random_state=0, shrinking=True,\n",
              "  tol=0.001, verbose=False)"
            ]
          },
          "metadata": {
            "tags": []
          },
          "execution_count": 25
        }
      ]
    },
    {
      "cell_type": "code",
      "metadata": {
        "id": "yzXcQutL3WDE",
        "colab_type": "code",
        "colab": {}
      },
      "source": [
        "# Predicting\n",
        "y_pred2 = svc_classifier.predict(xtest)"
      ],
      "execution_count": null,
      "outputs": []
    },
    {
      "cell_type": "code",
      "metadata": {
        "id": "Hh4nHYI_3WDG",
        "colab_type": "code",
        "colab": {},
        "outputId": "bb3cd250-eecc-4826-a02f-830ac4425080"
      },
      "source": [
        "print(\"y_pred_randomforest : \\n\", y_pred2)"
      ],
      "execution_count": null,
      "outputs": [
        {
          "output_type": "stream",
          "text": [
            "y_pred_randomforest : \n",
            " [0 0 0 ..., 0 0 0]\n"
          ],
          "name": "stdout"
        }
      ]
    },
    {
      "cell_type": "code",
      "metadata": {
        "id": "M4-wm88-3WDI",
        "colab_type": "code",
        "colab": {},
        "outputId": "2aceb47c-da72-4b1e-ce46-11da1d1120c8"
      },
      "source": [
        "cm2 = confusion_matrix(ytest, y_pred2)\n",
        "print(\"Confusion Matrix : \\n\\n\", cm2)"
      ],
      "execution_count": null,
      "outputs": [
        {
          "output_type": "stream",
          "text": [
            "Confusion Matrix : \n",
            "\n",
            " [[71077     5]\n",
            " [   44    76]]\n"
          ],
          "name": "stdout"
        }
      ]
    },
    {
      "cell_type": "markdown",
      "metadata": {
        "id": "92OD1OHE3WDK",
        "colab_type": "text"
      },
      "source": [
        "## Results  of Random Forest Classifier"
      ]
    },
    {
      "cell_type": "code",
      "metadata": {
        "id": "CXcu1cm33WDL",
        "colab_type": "code",
        "colab": {},
        "outputId": "d514e506-4777-40cd-c230-69caf412175e"
      },
      "source": [
        "# Validating the Prediction\n",
        "Accuracy_svc = ((cm2[0][0] + cm2[1][1]) / cm2.sum()) *100\n",
        "print(\"Accuracy_svc    : \", Accuracy_svc)\n",
        "\n",
        "Error_rate_svc = ((cm2[0][1] + cm2[1][0]) / cm2.sum()) *100\n",
        "print(\"Error_rate_svc  : \", Error_rate_svc)\n",
        "\n",
        "# True Fake Recognition Rate\n",
        "Specificity_svc = (cm2[1][1] / (cm2[1][1] + cm2[0][1])) *100\n",
        "print(\"Specificity_svc : \", Specificity_svc)\n",
        "\n",
        "# True Genuine Recognition Rate\n",
        "Sensitivity_svc = (cm2[0][0] / (cm2[0][0] + cm2[1][0])) *100\n",
        "print(\"Sensitivity_svc : \", Sensitivity_svc)"
      ],
      "execution_count": null,
      "outputs": [
        {
          "output_type": "stream",
          "text": [
            "Accuracy_svc    :  99.9311817084\n",
            "Error_rate_svc  :  0.068818291621\n",
            "Specificity_svc :  93.8271604938\n",
            "Sensitivity_svc :  99.9381336033\n"
          ],
          "name": "stdout"
        }
      ]
    },
    {
      "cell_type": "markdown",
      "metadata": {
        "id": "mwSXEgjG3WDN",
        "colab_type": "text"
      },
      "source": [
        "I have used  two classification models : \n",
        "*    Decision Tree Classifier\n",
        "*    Support Vector Classifier\n",
        "\n",
        "In order to do so I have done my data Processing : \n",
        "*    Handled Missing values : Using mean\n",
        "*    Standarised the data   : Using Standardisation\n",
        "        \n",
        "Then I applied my two models, which works really well - \n",
        "*   Decision Tree Accuracy    :  99.9227549788\n",
        "*   Random Forest Accuracy    :  99.9311817084"
      ]
    }
  ]
}